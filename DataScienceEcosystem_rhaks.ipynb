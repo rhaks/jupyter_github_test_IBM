{
 "cells": [
  {
   "cell_type": "markdown",
   "metadata": {
    "tags": []
   },
   "source": [
    "# Title of Notebook: DataScienceEcosystem_rhaks"
   ]
  },
  {
   "cell_type": "markdown",
   "metadata": {
    "tags": []
   },
   "source": [
    "#### Hello, this is introduction to this exercise. We are trying to learn how to use data science tools with IBM online lectures!"
   ]
  },
  {
   "cell_type": "markdown",
   "metadata": {},
   "source": [
    "Here are some data science languages:\n",
    "1. Python\n",
    "2. R\n",
    "3. SQL\n",
    "4. Java\n",
    "5. C++\n",
    "6. Julia\n",
    "7. Scala\n",
    "8. JavaScript\n",
    "9. Ruby\n",
    "10. Go\n",
    "11. Visual Basic"
   ]
  },
  {
   "cell_type": "markdown",
   "metadata": {},
   "source": [
    "##### popular data science libraries\n",
    "1. Pandas\n",
    "2. Numpy\n",
    "3. ggplot2"
   ]
  },
  {
   "cell_type": "markdown",
   "metadata": {},
   "source": [
    "| Open Source        | Commercial           | Cloud Based  |\n",
    "| ------------------ |----------------------| -------------|\n",
    "| MongoDB           | Oracle        | IBM Data Refinary        |\n",
    "|MySQL          | MS SQL Server             |          CouchDB |\n",
    "| Cassandra      | IBM DB2             |           Informatica |"
   ]
  },
  {
   "cell_type": "markdown",
   "metadata": {
    "tags": []
   },
   "source": [
    "# Below are a few examples of evaluating arithmetic expressions in Python\n",
    "a=3<br>\n",
    "b=1<br>\n",
    "print (a+b)<br>\n",
    "result will be shown as:<br>\n",
    "4<br>\n",
    "prin (a*b)<br>\n",
    "result will be shown as:<br>\n",
    "3"
   ]
  },
  {
   "cell_type": "code",
   "execution_count": 3,
   "metadata": {},
   "outputs": [
    {
     "data": {
      "text/plain": [
       "17"
      ]
     },
     "execution_count": 3,
     "metadata": {},
     "output_type": "execute_result"
    }
   ],
   "source": [
    "(3*4)+5\n",
    "## This a simple arithmetic expression to mutiply then add integers"
   ]
  },
  {
   "cell_type": "code",
   "execution_count": 6,
   "metadata": {},
   "outputs": [
    {
     "data": {
      "text/plain": [
       "3"
      ]
     },
     "execution_count": 6,
     "metadata": {},
     "output_type": "execute_result"
    }
   ],
   "source": [
    "200//60\n",
    "## This a simple arithmetic expression to mutiply then add integers"
   ]
  },
  {
   "cell_type": "markdown",
   "metadata": {},
   "source": [
    "**Objectives:**<br>\n",
    "data science languages\n",
    "* python\n",
    "* r\n",
    "* SQL\n",
    "* Java\n",
    "* C++"
   ]
  },
  {
   "cell_type": "markdown",
   "metadata": {},
   "source": [
    "## Author\n",
    "R. Hakan Aksoy"
   ]
  },
  {
   "cell_type": "code",
   "execution_count": null,
   "metadata": {},
   "outputs": [],
   "source": []
  }
 ],
 "metadata": {
  "kernelspec": {
   "display_name": "Python",
   "language": "python",
   "name": "conda-env-python-py"
  },
  "language_info": {
   "codemirror_mode": {
    "name": "ipython",
    "version": 3
   },
   "file_extension": ".py",
   "mimetype": "text/x-python",
   "name": "python",
   "nbconvert_exporter": "python",
   "pygments_lexer": "ipython3",
   "version": "3.7.12"
  }
 },
 "nbformat": 4,
 "nbformat_minor": 4
}
